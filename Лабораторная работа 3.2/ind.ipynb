{
 "cells": [
  {
   "cell_type": "markdown",
   "id": "8194ef05",
   "metadata": {},
   "source": [
    "# Задание\n",
    "Дана целочисленная прямоугольная матрица. Определить количество столбцов, не\n",
    "содержащих ни одного нулевого элемента. Характеристикой строки целочисленной матрицы\n",
    "назовем сумму ее положительных четных элементов. Переставляя строки заданной\n",
    "матрицы, расположить их в соответствии с ростом характеристик."
   ]
  },
  {
   "cell_type": "code",
   "execution_count": 1,
   "id": "5da87bd7",
   "metadata": {},
   "outputs": [],
   "source": [
    "import numpy as np"
   ]
  },
  {
   "cell_type": "markdown",
   "id": "fb192a11",
   "metadata": {},
   "source": [
    "Создаем исходную матрицу"
   ]
  },
  {
   "cell_type": "code",
   "execution_count": 5,
   "id": "17a4d13b",
   "metadata": {},
   "outputs": [
    {
     "data": {
      "text/plain": [
       "array([[  8,   7,  -3,   7,  -2,   8,   7, -10,  -5,  -6],\n",
       "       [ -5,  -1,   9, -10,  -8,   1,  -8,   6,  -1,   4],\n",
       "       [  6,   9,   3,   8,   9,  -2,  -4, -10,  -2,   7],\n",
       "       [ -4,  -7,  -9,   1,   7,   3,   1,   7,  -9,   0],\n",
       "       [  9,  -5,  -1,  -3,  -9,  -9,   5,   8,  -9,  -3],\n",
       "       [ -4,   1,   1,  -7,   3,   2,  -1,   0,   4, -10],\n",
       "       [ -6,   6,  -8,   4,  -4,  -6,  -2,   3,  -2, -10]])"
      ]
     },
     "execution_count": 5,
     "metadata": {},
     "output_type": "execute_result"
    }
   ],
   "source": [
    "matrix = np.random.randint(-10, 10,(7, 10))\n",
    "matrix"
   ]
  },
  {
   "cell_type": "markdown",
   "id": "de0aae01",
   "metadata": {},
   "source": [
    "Вычисляем характеристику каждой строки матрицы"
   ]
  },
  {
   "cell_type": "code",
   "execution_count": 7,
   "id": "373555c6",
   "metadata": {},
   "outputs": [
    {
     "data": {
      "text/plain": [
       "array([2, 2, 2, 0, 1, 2, 2])"
      ]
     },
     "execution_count": 7,
     "metadata": {},
     "output_type": "execute_result"
    }
   ],
   "source": [
    "row_sum = np.sum((matrix > 0) & (matrix % 2 == 0), axis=1)\n",
    "row_sum"
   ]
  },
  {
   "cell_type": "markdown",
   "id": "1aeb9b31",
   "metadata": {},
   "source": [
    "Находим индексы строк, содержащих положительные четные элементы"
   ]
  },
  {
   "cell_type": "code",
   "execution_count": 9,
   "id": "62821f14",
   "metadata": {},
   "outputs": [
    {
     "data": {
      "text/plain": [
       "array([0, 1, 2, 4, 5, 6], dtype=int64)"
      ]
     },
     "execution_count": 9,
     "metadata": {},
     "output_type": "execute_result"
    }
   ],
   "source": [
    "non_zero_rows = np.flatnonzero(row_sum)\n",
    "non_zero_rows"
   ]
  },
  {
   "cell_type": "markdown",
   "id": "db38982a",
   "metadata": {},
   "source": [
    "Создаем новую матрицу, содержащую только строки, которые содержат положительные четные элементы,\n",
    "и сортируем ее в порядке возрастания характеристик"
   ]
  },
  {
   "cell_type": "code",
   "execution_count": 11,
   "id": "42bfdc5a",
   "metadata": {},
   "outputs": [
    {
     "data": {
      "text/plain": [
       "array([[  9,  -5,  -1,  -3,  -9,  -9,   5,   8,  -9,  -3],\n",
       "       [  8,   7,  -3,   7,  -2,   8,   7, -10,  -5,  -6],\n",
       "       [ -5,  -1,   9, -10,  -8,   1,  -8,   6,  -1,   4],\n",
       "       [  6,   9,   3,   8,   9,  -2,  -4, -10,  -2,   7],\n",
       "       [ -4,   1,   1,  -7,   3,   2,  -1,   0,   4, -10],\n",
       "       [ -6,   6,  -8,   4,  -4,  -6,  -2,   3,  -2, -10]])"
      ]
     },
     "execution_count": 11,
     "metadata": {},
     "output_type": "execute_result"
    }
   ],
   "source": [
    "new_matrix = matrix[non_zero_rows]\n",
    "sorted_indices = np.argsort(row_sum[non_zero_rows])\n",
    "sorted_matrix = new_matrix[sorted_indices]\n",
    "sorted_matrix"
   ]
  },
  {
   "cell_type": "markdown",
   "id": "862a4fb0",
   "metadata": {},
   "source": [
    "Находим количество столбцов, не содержащих ни одного нулевого элемента, и возвращаем его"
   ]
  },
  {
   "cell_type": "code",
   "execution_count": 12,
   "id": "a12e3814",
   "metadata": {},
   "outputs": [
    {
     "name": "stdout",
     "output_type": "stream",
     "text": [
      "8\n"
     ]
    }
   ],
   "source": [
    "non_zero_columns = np.sum(np.count_nonzero(matrix, axis=0) == matrix.shape[0])\n",
    "print(non_zero_columns)"
   ]
  }
 ],
 "metadata": {
  "kernelspec": {
   "display_name": "Python 3 (ipykernel)",
   "language": "python",
   "name": "python3"
  },
  "language_info": {
   "codemirror_mode": {
    "name": "ipython",
    "version": 3
   },
   "file_extension": ".py",
   "mimetype": "text/x-python",
   "name": "python",
   "nbconvert_exporter": "python",
   "pygments_lexer": "ipython3",
   "version": "3.11.1"
  }
 },
 "nbformat": 4,
 "nbformat_minor": 5
}
