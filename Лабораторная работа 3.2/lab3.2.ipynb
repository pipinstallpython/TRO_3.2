{
 "cells": [
  {
   "cell_type": "markdown",
   "metadata": {},
   "source": [
    "\n",
    "\n",
    "# Лабораторная работа 3.2. Знакомство с NumPy\n",
    "Библиотека NumPy -- быстрая библиотека для математики в Python, основная структура данных -- массив `numpy.array`:"
   ]
  },
  {
   "cell_type": "markdown",
   "metadata": {},
   "source": [
    "![](https://media.giphy.com/media/3o7btPCcdNniyf0ArS/giphy.gif)"
   ]
  },
  {
   "cell_type": "code",
   "execution_count": 1,
   "metadata": {
    "jupyter": {
     "outputs_hidden": true
    }
   },
   "outputs": [],
   "source": [
    "# подключение модуля numpy под именем np\n",
    "import numpy as np"
   ]
  },
  {
   "cell_type": "code",
   "execution_count": 2,
   "metadata": {},
   "outputs": [
    {
     "name": "stdout",
     "output_type": "stream",
     "text": [
      "a = [1 2 3 4 5]\n",
      "b = [0.1 0.2 0.3 0.4 0.5]\n"
     ]
    }
   ],
   "source": [
    "# основная структура данных - массив\n",
    "a = np.array([1, 2, 3, 4, 5])\n",
    "b = np.array([0.1, 0.2, 0.3, 0.4, 0.5])\n",
    "\n",
    "print(\"a =\", a)\n",
    "print(\"b =\", b)"
   ]
  },
  {
   "cell_type": "markdown",
   "metadata": {},
   "source": [
    "Создайте массив с 5 любыми числами:"
   ]
  },
  {
   "cell_type": "code",
   "execution_count": 3,
   "metadata": {},
   "outputs": [
    {
     "name": "stdout",
     "output_type": "stream",
     "text": [
      "c = [ 4  8 15 16 23]\n"
     ]
    }
   ],
   "source": [
    "c = np.array([4, 8, 15, 16, 23])\n",
    "print('c =', c)"
   ]
  },
  {
   "cell_type": "markdown",
   "metadata": {},
   "source": [
    "Арифметические операции, в отличие от операций над списками, применяются поэлементно:"
   ]
  },
  {
   "cell_type": "code",
   "execution_count": 4,
   "metadata": {},
   "outputs": [
    {
     "name": "stdout",
     "output_type": "stream",
     "text": [
      "list1: [1, 2, 3]\n",
      "\tlist1 * 3: [1, 2, 3, 1, 2, 3, 1, 2, 3]\n",
      "\tlist1 + [1]: [1, 2, 3, 1]\n",
      "array1: [1 2 3]\n",
      "\tarray1 * 3: [3 6 9]\n",
      "\tarray1 + 1: [2 3 4]\n"
     ]
    }
   ],
   "source": [
    "list1 = [1, 2, 3]\n",
    "array1 = np.array([1, 2, 3])\n",
    "\n",
    "print(\"list1:\", list1)\n",
    "print('\\tlist1 * 3:', list1 * 3)\n",
    "print('\\tlist1 + [1]:', list1 + [1])\n",
    "\n",
    "print('array1:', array1)\n",
    "print('\\tarray1 * 3:', array1 * 3)\n",
    "print('\\tarray1 + 1:', array1 + 1)"
   ]
  },
  {
   "cell_type": "markdown",
   "metadata": {},
   "source": [
    "Создайте массив из 5 чисел. Возведите каждый элемент массива в степень 3"
   ]
  },
  {
   "cell_type": "code",
   "execution_count": 6,
   "metadata": {
    "jupyter": {
     "outputs_hidden": true
    }
   },
   "outputs": [
    {
     "name": "stdout",
     "output_type": "stream",
     "text": [
      "c ** 3 = [   64   512  3375  4096 12167]\n"
     ]
    }
   ],
   "source": [
    "c = np.array([4, 8, 15, 16, 23])\n",
    "print('c ** 3 =', c ** 3)"
   ]
  },
  {
   "cell_type": "markdown",
   "metadata": {},
   "source": [
    "Если в операции участвуют $2$ массива (по умолчанию -- одинакового размера), операции считаются для соответствующих пар:"
   ]
  },
  {
   "cell_type": "code",
   "execution_count": 7,
   "metadata": {},
   "outputs": [
    {
     "name": "stdout",
     "output_type": "stream",
     "text": [
      "a + b = [1.1 2.2 3.3 4.4 5.5]\n",
      "a * b = [0.1 0.4 0.9 1.6 2.5]\n"
     ]
    }
   ],
   "source": [
    "print(\"a + b =\", a + b)\n",
    "print(\"a * b =\", a * b)"
   ]
  },
  {
   "cell_type": "code",
   "execution_count": 8,
   "metadata": {
    "jupyter": {
     "outputs_hidden": true
    }
   },
   "outputs": [
    {
     "name": "stdout",
     "output_type": "stream",
     "text": [
      "a - b = [0.9 1.8 2.7 3.6 4.5]\n",
      "a / b = [10. 10. 10. 10. 10.]\n",
      "a // b = [ 9.  9. 10.  9. 10.]\n",
      "a ** 2 = [ 1  4  9 16 25]\n"
     ]
    }
   ],
   "source": [
    "# вот это разность\n",
    "print(\"a - b =\", a - b)\n",
    "\n",
    "# вот это деление\n",
    "print(\"a / b =\", a / b)\n",
    "\n",
    "# вот это целочисленное деление\n",
    "print(\"a // b =\", a // b)\n",
    "\n",
    "# вот это квадрат\n",
    "print(\"a ** 2 =\", a ** 2)"
   ]
  },
  {
   "cell_type": "markdown",
   "metadata": {},
   "source": [
    " Создайте два массива одинаковой длины. Выведите массив, полученный делением одного массива на другой."
   ]
  },
  {
   "cell_type": "code",
   "execution_count": 9,
   "metadata": {
    "jupyter": {
     "outputs_hidden": true
    }
   },
   "outputs": [
    {
     "name": "stdout",
     "output_type": "stream",
     "text": [
      "a / b = [ 0.8         1.33333333  0.27272727  8.         23.        ]\n"
     ]
    }
   ],
   "source": [
    "m1 = np.array([4, 8, 15, 16, 23])\n",
    "m2 = np.array([5, 6, 55, 2, 1])\n",
    "print(\"a / b =\", m1 / m2)"
   ]
  },
  {
   "cell_type": "markdown",
   "metadata": {},
   "source": [
    "#### *Л — логика*\n",
    "К элементам массива можно применять логические операции.\n",
    "\n",
    "Возвращаемое значение -- массив, содержащий результаты вычислений для каждого элемента (`True` -- \"да\" или `False` -- \"нет\"):"
   ]
  },
  {
   "cell_type": "code",
   "execution_count": 10,
   "metadata": {},
   "outputs": [
    {
     "name": "stdout",
     "output_type": "stream",
     "text": [
      "a = [1 2 3 4 5]\n",
      "\ta > 1:  [False  True  True  True  True]\n",
      "\n",
      "b = [0.1 0.2 0.3 0.4 0.5]\n",
      "\tb < 0.5:   [ True  True  True  True False]\n",
      "\n",
      "Одновременная проверка условий:\n",
      "\t(a > 1) & (b < 0.5):   [False  True  True  True False]\n",
      "А вот это проверяет, что a > 1 ИЛИ b < 0.5:   [ True  True  True  True  True]\n"
     ]
    }
   ],
   "source": [
    "print(\"a =\", a)\n",
    "print(\"\\ta > 1: \", a > 1)\n",
    "print(\"\\nb =\", b)\n",
    "print(\"\\tb < 0.5:  \", b < 0.5)\n",
    "\n",
    "print(\"\\nОдновременная проверка условий:\")\n",
    "print(\"\\t(a > 1) & (b < 0.5):  \", (a>1) & (b < 0.5))\n",
    "print(\"А вот это проверяет, что a > 1 ИЛИ b < 0.5:  \", (a > 1) | (b < 0.5))"
   ]
  },
  {
   "cell_type": "markdown",
   "metadata": {},
   "source": [
    "Создайте 2 массива из 5 элементов. Проверьте условие \"Элементы первого массива меньше 6, элементы второго массива делятся на 3\""
   ]
  },
  {
   "cell_type": "code",
   "execution_count": 11,
   "metadata": {
    "jupyter": {
     "outputs_hidden": true
    }
   },
   "outputs": [
    {
     "name": "stdout",
     "output_type": "stream",
     "text": [
      "Проверка 1-го массива:  [ True False False False False]\n",
      "Проверка 2-го массива:  [False  True False False False]\n"
     ]
    }
   ],
   "source": [
    "print(\"Проверка 1-го массива: \", m1 < 6)\n",
    "print(\"Проверка 2-го массива: \", m2 % 3 == 0)"
   ]
  },
  {
   "cell_type": "markdown",
   "metadata": {},
   "source": [
    "Теперь проверьте условие \"Элементы первого массива делятся на 2 или элементы второго массива больше 2\""
   ]
  },
  {
   "cell_type": "code",
   "execution_count": 14,
   "metadata": {
    "jupyter": {
     "outputs_hidden": true
    }
   },
   "outputs": [
    {
     "name": "stdout",
     "output_type": "stream",
     "text": [
      "[False False False False False]\n"
     ]
    }
   ],
   "source": [
    "print((m1 % 2 == 0) & (b > 2))"
   ]
  },
  {
   "cell_type": "markdown",
   "metadata": {},
   "source": [
    "Зачем это нужно? Чтобы выбирать элементы массива, удовлетворяющие какому-нибудь условию:"
   ]
  },
  {
   "cell_type": "code",
   "execution_count": 15,
   "metadata": {},
   "outputs": [
    {
     "name": "stdout",
     "output_type": "stream",
     "text": [
      "a = [1 2 3 4 5]\n",
      "a > 2: [False False  True  True  True]\n",
      "a[a > 2]: [3 4 5]\n"
     ]
    }
   ],
   "source": [
    "print(\"a =\", a)\n",
    "print(\"a > 2:\", a > 2)\n",
    "# индексация - выбираем элементы из массива в тех позициях, где True\n",
    "print(\"a[a > 2]:\", a[a > 2])"
   ]
  },
  {
   "cell_type": "markdown",
   "metadata": {},
   "source": [
    "Создайте массив с элементами от 1 до 20. Выведите все элементы, которые больше 5 и не делятся на 2"
   ]
  },
  {
   "cell_type": "markdown",
   "metadata": {},
   "source": [
    "Подсказка: создать массив можно с помощью функции np.arange(), действие которой аналогично функции range, которую вы уже знаете."
   ]
  },
  {
   "cell_type": "code",
   "execution_count": 17,
   "metadata": {
    "jupyter": {
     "outputs_hidden": true
    }
   },
   "outputs": [
    {
     "name": "stdout",
     "output_type": "stream",
     "text": [
      "[ 7  9 11 13 15 17 19]\n"
     ]
    }
   ],
   "source": [
    "m3 = np.arange(1, 21)\n",
    "print(m3[np.logical_and((m3 > 5), (m3 % 2 != 0))])"
   ]
  },
  {
   "cell_type": "markdown",
   "metadata": {},
   "source": [
    "#### А ещё NumPy умеет...\n",
    "\n",
    "Все операции NumPy оптимизированы для быстрых вычислений над целыми массивами чисел и в методах `np.array` реализовано множество функций, которые могут вам понадобиться:"
   ]
  },
  {
   "cell_type": "code",
   "execution_count": 18,
   "metadata": {},
   "outputs": [
    {
     "name": "stdout",
     "output_type": "stream",
     "text": [
      "np.mean(a) = 3.0\n",
      "np.min(a) = 1\n",
      "np.argmin(a) = 0\n",
      "np.unique(['male', 'male', 'female', 'female', 'male']) = ['female' 'male']\n"
     ]
    }
   ],
   "source": [
    "# теперь можно считать средний размер котиков в одну строку!\n",
    "print(\"np.mean(a) =\", np.mean(a))\n",
    "# минимальный элемент\n",
    "print(\"np.min(a) =\", np.min(a))\n",
    "# индекс минимального элемента\n",
    "print(\"np.argmin(a) =\", np.argmin(a))\n",
    "# вывести значения массива без дубликатов\n",
    "print(\"np.unique(['male', 'male', 'female', 'female', 'male']) =\", np.unique(['male', 'male', 'female', 'female', 'male']))\n",
    "\n",
    "# и ещё много всяких методов\n",
    "# Google в помощь"
   ]
  },
  {
   "cell_type": "markdown",
   "metadata": {},
   "source": [
    "---\n",
    "\n",
    "---\n",
    "\n",
    "Пора еще немного потренироваться с NumPy.\n",
    "\n",
    "Выполните операции, перечисленные ниже:"
   ]
  },
  {
   "cell_type": "code",
   "execution_count": 19,
   "metadata": {
    "jupyter": {
     "outputs_hidden": true
    }
   },
   "outputs": [
    {
     "name": "stdout",
     "output_type": "stream",
     "text": [
      "Разность между a и b:\n",
      "Квадраты элементов b:\n",
      "Половины произведений элементов массивов a и b:\n",
      "\n",
      "Максимальный элемент b:\n",
      "Сумма элементов массива b:\n",
      "Индекс максимального элемента b:\n"
     ]
    }
   ],
   "source": [
    "print(\"Разность между a и b:\", # YOUR CODE\n",
    "     )\n",
    "print(\"Квадраты элементов b:\", # YOUR CODE\n",
    "     )\n",
    "print(\"Половины произведений элементов массивов a и b:\", # YOUR CODE\n",
    "     )\n",
    "\n",
    "print()\n",
    "print(\"Максимальный элемент b:\", # YOUR CODE\n",
    "     )\n",
    "print(\"Сумма элементов массива b:\", # YOUR CODE\n",
    "     )\n",
    "print(\"Индекс максимального элемента b:\", # YOUR CODE\n",
    "     )"
   ]
  },
  {
   "cell_type": "markdown",
   "metadata": {},
   "source": [
    " Задайте два массива: [5, 2, 3, 12, 4, 5]   и   ['f', 'o', 'o', 'b', 'a', 'r']"
   ]
  },
  {
   "cell_type": "markdown",
   "metadata": {},
   "source": [
    "Выведите буквы из второго массива, индексы которых соответствуют индексам чисел из первого массива, которые больше 1, меньше 5 и делятся на 2"
   ]
  },
  {
   "cell_type": "code",
   "execution_count": 21,
   "metadata": {},
   "outputs": [
    {
     "name": "stdout",
     "output_type": "stream",
     "text": [
      "['o' 'o' 'a']\n"
     ]
    }
   ],
   "source": [
    "q = np.array([5, 2, 3, 12, 4, 5])\n",
    "w = np.array(['f', 'o', 'o', 'b', 'a', 'r'])\n",
    "\n",
    "print(w[np.logical_and(q > 1, q < 5, q % 2 == 0)])"
   ]
  }
 ],
 "metadata": {
  "kernelspec": {
   "display_name": "Python 3 (ipykernel)",
   "language": "python",
   "name": "python3"
  },
  "language_info": {
   "codemirror_mode": {
    "name": "ipython",
    "version": 3
   },
   "file_extension": ".py",
   "mimetype": "text/x-python",
   "name": "python",
   "nbconvert_exporter": "python",
   "pygments_lexer": "ipython3",
   "version": "3.11.1"
  },
  "name": "seminar1_python_intro_tools.ipynb"
 },
 "nbformat": 4,
 "nbformat_minor": 4
}
